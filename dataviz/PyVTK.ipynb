{
 "cells": [
  {
   "cell_type": "markdown",
   "metadata": {},
   "source": [
    "# PyVTK "
   ]
  },
  {
   "cell_type": "markdown",
   "metadata": {},
   "source": [
    "PyVTK is a Python library for creating files for use with ParaView or VTK toolkit."
   ]
  },
  {
   "cell_type": "markdown",
   "metadata": {},
   "source": [
    "VTK supports the following data types:\n",
    "\n",
    "![alt text](datatypes1.jpg \"VTK data structures\")"
   ]
  },
  {
   "cell_type": "markdown",
   "metadata": {},
   "source": [
    "## Example1\n",
    "\n",
    "From https://github.com/pearu/pyvtk/tree/master/examples"
   ]
  },
  {
   "cell_type": "markdown",
   "metadata": {},
   "source": [
    "Define the structure"
   ]
  },
  {
   "cell_type": "code",
   "execution_count": 1,
   "metadata": {},
   "outputs": [],
   "source": [
    "from pyvtk import *\n",
    "\n",
    "structure = PolyData(points=[[0,0,0],[1,0,0],[1,1,0],[0,1,0],\n",
    "                             [0,0,1],[1,0,1],[1,1,1],[0,1,1]],\n",
    "                     polygons=[[0,1,2,3],[4,5,6,7],[0,1,5,4],\n",
    "                               [2,3,7,6],[0,4,7,3],[1,2,6,5]])"
   ]
  },
  {
   "cell_type": "markdown",
   "metadata": {},
   "source": [
    "Add data to points"
   ]
  },
  {
   "cell_type": "code",
   "execution_count": 16,
   "metadata": {},
   "outputs": [],
   "source": [
    "pointdata = PointData(\\\n",
    "    Scalars([0,1,2,3,4,5,6,7],\n",
    "            name='sample_scalars'))"
   ]
  },
  {
   "cell_type": "markdown",
   "metadata": {},
   "source": [
    "Add data to cells"
   ]
  },
  {
   "cell_type": "code",
   "execution_count": 17,
   "metadata": {
    "collapsed": true,
    "jupyter": {
     "outputs_hidden": true
    }
   },
   "outputs": [],
   "source": [
    "celldata = CellData(\\\n",
    "    Scalars([0,1,2,3,4,5],\n",
    "            name='cell_scalars'),\n",
    "    Normals([[0,0,1],[0,0,1],[0,-1,0],\n",
    "             [0,1,0],[-1,0,0],[1,0,0]],\n",
    "            name='cell_normals'),\n",
    "    Field('FieldData',\n",
    "          cellIds=[[0],[1],[2],[3],[4],[5]],\n",
    "          faceAttributes=[[0,1],[1,2],[2,3],[3,4],[4,5],[5,6]]))"
   ]
  },
  {
   "cell_type": "markdown",
   "metadata": {},
   "source": [
    "Create VtkData object to write data to disk. This will create text based or binary vtk files."
   ]
  },
  {
   "cell_type": "code",
   "execution_count": 19,
   "metadata": {
    "collapsed": true,
    "jupyter": {
     "outputs_hidden": true
    }
   },
   "outputs": [],
   "source": [
    "vtk = VtkData(structure,pointdata,celldata)\n",
    "vtk.tofile('example1','ascii')\n",
    "vtk.tofile('example1b','binary')"
   ]
  },
  {
   "cell_type": "markdown",
   "metadata": {},
   "source": [
    "A vtk-file has the following structure:"
   ]
  },
  {
   "cell_type": "code",
   "execution_count": 20,
   "metadata": {
    "collapsed": true,
    "jupyter": {
     "outputs_hidden": true
    }
   },
   "outputs": [],
   "source": [
    "%pycat example1.vtk"
   ]
  },
  {
   "cell_type": "markdown",
   "metadata": {},
   "source": [
    "# Example 2"
   ]
  },
  {
   "cell_type": "code",
   "execution_count": 21,
   "metadata": {
    "collapsed": true,
    "jupyter": {
     "outputs_hidden": true
    }
   },
   "outputs": [],
   "source": [
    "vtk = VtkData(StructuredPoints([3,4,6]),\n",
    "              PointData(Scalars([0,0,0,0,0,0,0,0,0,0,0,0,\n",
    "                                 0,5,10,15,20,25,25,20,15,10,5,0,\n",
    "                                 0,10,20,30,40,50,50,40,30,20,10,0,\n",
    "                                 0,10,20,30,40,50,50,40,30,20,10,0,\n",
    "                                 0,5,10,15,20,25,25,20,15,10,5,0,\n",
    "                                 0,0,0,0,0,0,0,0,0,0,0,0\n",
    "                                 ])))\n",
    "\n",
    "vtk.tofile('example2')"
   ]
  },
  {
   "cell_type": "markdown",
   "metadata": {},
   "source": [
    "# Example 3"
   ]
  },
  {
   "cell_type": "code",
   "execution_count": 22,
   "metadata": {
    "collapsed": true,
    "jupyter": {
     "outputs_hidden": true
    }
   },
   "outputs": [],
   "source": [
    "vtk = VtkData('example2',only_structure = 1)\n",
    "def f(x,y,z):\n",
    "    return x*y*z\n",
    "vtk.point_data.append(vtk.structure.Scalars(f,'x*y*z'))\n",
    "vtk.tofile('example2f_sp')"
   ]
  },
  {
   "cell_type": "markdown",
   "metadata": {},
   "source": [
    "# Example 4"
   ]
  },
  {
   "cell_type": "code",
   "execution_count": 18,
   "metadata": {},
   "outputs": [
    {
     "name": "stdout",
     "output_type": "stream",
     "text": [
      "[(0, 0, 0), (1, 0, 0), (2, 0, 0), (0, 1, 0), (1, 1, 0), (2, 1, 0), (0, 2, 0), (1, 2, 0), (2, 2, 0), (0, 3, 0), (1, 3, 0), (2, 3, 0), (0, 0, 1), (1, 0, 1), (2, 0, 1), (0, 1, 1), (1, 1, 1), (2, 1, 1), (0, 2, 1), (1, 2, 1), (2, 2, 1), (0, 3, 1), (1, 3, 1), (2, 3, 1), (0, 0, 2), (1, 0, 2), (2, 0, 2), (0, 1, 2), (1, 1, 2), (2, 1, 2), (0, 2, 2), (1, 2, 2), (2, 2, 2), (0, 3, 2), (1, 3, 2), (2, 3, 2), (0, 0, 3), (1, 0, 3), (2, 0, 3), (0, 1, 3), (1, 1, 3), (2, 1, 3), (0, 2, 3), (1, 2, 3), (2, 2, 3), (0, 3, 3), (1, 3, 3), (2, 3, 3), (0, 0, 4), (1, 0, 4), (2, 0, 4), (0, 1, 4), (1, 1, 4), (2, 1, 4), (0, 2, 4), (1, 2, 4), (2, 2, 4), (0, 3, 4), (1, 3, 4), (2, 3, 4), (0, 0, 5), (1, 0, 5), (2, 0, 5), (0, 1, 5), (1, 1, 5), (2, 1, 5), (0, 2, 5), (1, 2, 5), (2, 2, 5), (0, 3, 5), (1, 3, 5), (2, 3, 5)]\n"
     ]
    }
   ],
   "source": [
    "pp = [(i,j,k) for k in range(6) for j in range(4) for i in range(3)]\n",
    "\n",
    "print(pp)\n",
    "\n",
    "vtk = VtkData(StructuredGrid([3,4,6],pp))\n",
    "vtk.point_data.append(vtk.structure.Scalars(f,'x*y*z'))\n",
    "vtk.tofile('example2f_sg')"
   ]
  },
  {
   "cell_type": "markdown",
   "metadata": {},
   "source": [
    "# Example 5"
   ]
  },
  {
   "cell_type": "code",
   "execution_count": 19,
   "metadata": {
    "collapsed": true,
    "jupyter": {
     "outputs_hidden": true
    }
   },
   "outputs": [],
   "source": [
    "vtk = VtkData(RectilinearGrid(range(3),range(4),range(6)))\n",
    "vtk.point_data.append(vtk.structure.Scalars(f,'x*y*z'))\n",
    "vtk.tofile('example2f_rg')"
   ]
  },
  {
   "cell_type": "markdown",
   "metadata": {},
   "source": [
    "# Example 6"
   ]
  },
  {
   "cell_type": "code",
   "execution_count": 20,
   "metadata": {
    "collapsed": true,
    "jupyter": {
     "outputs_hidden": true
    }
   },
   "outputs": [],
   "source": [
    "voxels = []\n",
    "points = []\n",
    "n = 0\n",
    "for k in range(6):\n",
    "    for j in range(4):\n",
    "        for i in range(3):\n",
    "            points.append((i,j,k))\n",
    "            if not (k==5 or j==3 or i==2):\n",
    "                voxels.append([n,n+1,n+3,n+3+1,n+3*4,n+3*4+1,n+3*4+3,n+3*4+3+1])\n",
    "            n += 1\n",
    "vtk = VtkData(UnstructuredGrid(points,voxel=voxels))\n",
    "vtk.point_data.append(vtk.structure.Scalars(f,'x*y*z'))\n",
    "vtk.tofile('example2f_usg')"
   ]
  },
  {
   "cell_type": "markdown",
   "metadata": {},
   "source": [
    "# Example 7"
   ]
  },
  {
   "cell_type": "code",
   "execution_count": 23,
   "metadata": {
    "collapsed": true,
    "jupyter": {
     "outputs_hidden": true
    }
   },
   "outputs": [],
   "source": [
    "points = [[0,0,0],[1,0,0],[2,0,0],[0,1,0],[1,1,0],[2,1,0],\n",
    "          [0,0,1],[1,0,1],[2,0,1],[0,1,1],[1,1,1],[2,1,1],\n",
    "          [0,1,2],[1,1,2],[2,1,2],[0,1,3],[1,1,3],[2,1,3],\n",
    "          [0,1,4],[1,1,4],[2,1,4],[0,1,5],[1,1,5],[2,1,5],\n",
    "          [0,1,6],[1,1,6],[2,1,6]\n",
    "          ]\n",
    "vectors = [[1,0,0],[1,1,0],[0,2,0],[1,0,0],[1,1,0],[0,2,0],\n",
    "           [1,0,0],[1,1,0],[0,2,0],[1,0,0],[1,1,0],[0,2,0],\n",
    "           [0,0,1],[0,0,1],[0,0,1],[0,0,1],[0,0,1],[0,0,1],\n",
    "           [0,0,1],[0,0,1],[0,0,1],[0,0,1],[0,0,1],[0,0,1],\n",
    "           [0,0,1],[0,0,1],[0,0,1]\n",
    "           ]\n",
    "vtk = VtkData(\\\n",
    "        UnstructuredGrid(points,\n",
    "                         hexahedron=[[0,1,4,3,6,7,10,9],\n",
    "                                     [1,2,5,4,7,8,11,10]],\n",
    "                         tetra=[[6,10,9,12],\n",
    "                                [5,11,10,14]],\n",
    "                         polygon=[15,16,17,14,13,12],\n",
    "                         triangle_strip=[18,15,19,16,20,17],\n",
    "                         quad=[22,23,20,19],\n",
    "                         triangle=[[21,22,18],\n",
    "                                   [22,19,18]],\n",
    "                         line=[26,25],\n",
    "                         vertex=[24]\n",
    "                         ),\n",
    "        PointData(Vectors(vectors),Scalars(range(27))),\n",
    "        'Unstructured Grid Example'\n",
    "        )\n",
    "vtk.tofile('example3')"
   ]
  },
  {
   "cell_type": "code",
   "execution_count": 3,
   "metadata": {},
   "outputs": [
    {
     "name": "stdout",
     "output_type": "stream",
     "text": [
      "(299520, 6)\n"
     ]
    }
   ],
   "source": [
    "import numpy as np\n",
    "\n",
    "uvw_arr = np.loadtxt('uvw.dat', skiprows=2)\n",
    "print(uvw_arr.shape)"
   ]
  },
  {
   "cell_type": "code",
   "execution_count": 4,
   "metadata": {},
   "outputs": [
    {
     "name": "stdout",
     "output_type": "stream",
     "text": [
      "variables=\"x\",\"y\",\"z\",\"u\",\"v\",\"w\"\n",
      "zone i=96,j=65,k=48,f=point\n",
      "0 -1 0 -7.00895e-05 2.28715e-05 7.11905e-05\n",
      "0.0327249 -1 0 -8.01278e-05 1.89072e-05 4.83821e-05\n",
      "0.0654498 -1 0 -6.8715e-05 8.60358e-06 -1.31806e-06\n",
      "0.0981748 -1 0 -3.79768e-05 -4.03025e-06 -5.09628e-05\n",
      "0.1309 -1 0 -8.62436e-06 -1.93002e-05 -9.18307e-05\n",
      "0.163625 -1 0 5.18301e-06 -2.96726e-05 -8.77444e-05\n",
      "0.19635 -1 0 3.97951e-06 -2.64684e-05 -4.38229e-05\n",
      "0.229074 -1 0 -8.44003e-06 -1.01639e-05 -7.55249e-06\n"
     ]
    }
   ],
   "source": [
    "!head uvw.dat"
   ]
  },
  {
   "cell_type": "code",
   "execution_count": 5,
   "metadata": {},
   "outputs": [],
   "source": [
    "points = uvw_arr[:,0:3]"
   ]
  },
  {
   "cell_type": "code",
   "execution_count": 6,
   "metadata": {},
   "outputs": [
    {
     "name": "stdout",
     "output_type": "stream",
     "text": [
      "(299520, 3)\n"
     ]
    }
   ],
   "source": [
    "print(points.shape)"
   ]
  },
  {
   "cell_type": "code",
   "execution_count": 7,
   "metadata": {},
   "outputs": [],
   "source": [
    "point_data = uvw_arr[:,3:6]"
   ]
  },
  {
   "cell_type": "code",
   "execution_count": 8,
   "metadata": {},
   "outputs": [
    {
     "name": "stdout",
     "output_type": "stream",
     "text": [
      "(299520, 3)\n"
     ]
    }
   ],
   "source": [
    "print(point_data.shape)"
   ]
  },
  {
   "cell_type": "code",
   "execution_count": 9,
   "metadata": {},
   "outputs": [],
   "source": [
    "vtk = VtkData(UnstructuredGrid(point_data), PointData(Vectors(point_data)))"
   ]
  },
  {
   "cell_type": "code",
   "execution_count": 10,
   "metadata": {},
   "outputs": [],
   "source": [
    "vtk.tofile(\"uvw.vtk\")"
   ]
  },
  {
   "cell_type": "code",
   "execution_count": null,
   "metadata": {},
   "outputs": [],
   "source": []
  }
 ],
 "metadata": {
  "kernelspec": {
   "display_name": "Python 3",
   "language": "python",
   "name": "python3"
  },
  "language_info": {
   "codemirror_mode": {
    "name": "ipython",
    "version": 3
   },
   "file_extension": ".py",
   "mimetype": "text/x-python",
   "name": "python",
   "nbconvert_exporter": "python",
   "pygments_lexer": "ipython3",
   "version": "3.7.4"
  }
 },
 "nbformat": 4,
 "nbformat_minor": 4
}
